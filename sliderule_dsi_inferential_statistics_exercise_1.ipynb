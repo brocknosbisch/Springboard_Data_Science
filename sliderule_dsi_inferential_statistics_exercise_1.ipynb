{
 "cells": [
  {
   "cell_type": "markdown",
   "metadata": {},
   "source": [
    "# What is the True Normal Human Body Temperature? \n",
    "\n",
    "#### Analysis done by Brock Nosbisch\n",
    "#### Background\n",
    "\n",
    "Project: Analyze Human Body Temperature Using EDA\n",
    "\n",
    "The mean normal body temperature was held to be 37$^{\\circ}$C or 98.6$^{\\circ}$F for more than 120 years since it was first conceptualized and reported by Carl Wunderlich in a famous 1868 book. But, is this value statistically correct?"
   ]
  },
  {
   "cell_type": "markdown",
   "metadata": {},
   "source": [
    "<h3>Exercises</h3>\n",
    "\n",
    "<p>In this exercise, you will analyze a dataset of human body temperatures and employ the concepts of hypothesis testing, confidence intervals, and statistical significance.</p>\n",
    "\n",
    "<p>Answer the following questions <b>in this notebook below and submit to your Github account</b>.</p> \n",
    "\n",
    "<ol>\n",
    "<li>  Is the distribution of body temperatures normal? \n",
    "    <ul>\n",
    "    <li> Although this is not a requirement for the Central Limit Theorem to hold (read the introduction on Wikipedia's page about the CLT carefully: https://en.wikipedia.org/wiki/Central_limit_theorem), it gives us some peace of mind that the population may also be normally distributed if we assume that this sample is representative of the population.\n",
    "    <li> Think about the way you're going to check for the normality of the distribution. Graphical methods are usually used first, but there are also other ways: https://en.wikipedia.org/wiki/Normality_test\n",
    "    </ul>\n",
    "<li>  Is the sample size large? Are the observations independent?\n",
    "    <ul>\n",
    "    <li> Remember that this is a condition for the Central Limit Theorem, and hence the statistical tests we are using, to apply.\n",
    "    </ul>\n",
    "<li>  Is the true population mean really 98.6 degrees F?\n",
    "    <ul>\n",
    "    <li> First, try a bootstrap hypothesis test.\n",
    "    <li> Now, let's try frequentist statistical testing. Would you use a one-sample or two-sample test? Why?\n",
    "    <li> In this situation, is it appropriate to use the $t$ or $z$ statistic? \n",
    "    <li> Now try using the other test. How is the result be different? Why?\n",
    "    </ul>\n",
    "<li>  Draw a small sample of size 10 from the data and repeat both frequentist tests. \n",
    "    <ul>\n",
    "    <li> Which one is the correct one to use? \n",
    "    <li> What do you notice? What does this tell you about the difference in application of the $t$ and $z$ statistic?\n",
    "    </ul>\n",
    "<li>  At what temperature should we consider someone's temperature to be \"abnormal\"?\n",
    "    <ul>\n",
    "    <li> As in the previous example, try calculating everything using the boostrap approach, as well as the frequentist approach.\n",
    "    <li> Start by computing the margin of error and confidence interval. When calculating the confidence interval, keep in mind that you should use the appropriate formula for one draw, and not N draws.\n",
    "    </ul>\n",
    "<li>  Is there a significant difference between males and females in normal temperature?\n",
    "    <ul>\n",
    "    <li> What testing approach did you use and why?\n",
    "    <li> Write a story with your conclusion in the context of the original problem.\n",
    "    </ul>\n",
    "</ol>\n",
    "\n",
    "You can include written notes in notebook cells using Markdown: \n",
    "   - In the control panel at the top, choose Cell > Cell Type > Markdown\n",
    "   - Markdown syntax: http://nestacms.com/docs/creating-content/markdown-cheat-sheet\n",
    "\n",
    "#### Resources\n",
    "\n",
    "+ Information and data sources: http://www.amstat.org/publications/jse/datasets/normtemp.txt, http://www.amstat.org/publications/jse/jse_data_archive.htm\n",
    "+ Markdown syntax: http://nestacms.com/docs/creating-content/markdown-cheat-sheet\n",
    "\n",
    "****"
   ]
  },
  {
   "cell_type": "code",
   "execution_count": 196,
   "metadata": {},
   "outputs": [],
   "source": [
    "import pandas as pd\n",
    "\n",
    "df = pd.read_csv('data/human_body_temperature.csv')"
   ]
  },
  {
   "cell_type": "markdown",
   "metadata": {},
   "source": [
    "## Initialize"
   ]
  },
  {
   "cell_type": "code",
   "execution_count": 197,
   "metadata": {},
   "outputs": [],
   "source": [
    "# Your work here.\n",
    "import numpy as np\n",
    "import matplotlib.pyplot as plt\n",
    "import seaborn as sns; sns.set(color_codes=True)\n",
    "from statsmodels.graphics.gofplots import qqplot\n",
    "from scipy.stats import shapiro, normaltest, anderson, norm\n",
    "import scipy.stats as stats\n",
    "\n",
    "# Function: ecdf\n",
    "def ecdf(data):\n",
    "    \"\"\"Compute ECDF for a one-dimensional array of measurements.\"\"\"\n",
    "    # Number of data points: n\n",
    "    n = len(data)\n",
    "\n",
    "    # x-data for the ECDF: x\n",
    "    x = np.sort(data)\n",
    "\n",
    "    # y-data for the ECDF: y\n",
    "    y = np.arange(1, n + 1) / n\n",
    "\n",
    "    return x, y\n",
    "\n",
    "# Bootstrap Replicates\n",
    "def bootstrap_replicate_1d(data, func):\n",
    "    return func(np.random.choice(data, size=len(data)))\n",
    "\n",
    "# Draw many bootstrap replicates\n",
    "def draw_bs_reps(data, func, size=1):\n",
    "    \"\"\"Draw bootstrap replicates.\"\"\"\n",
    "\n",
    "    # Initialize array of replicates: bs_replicates\n",
    "    bs_replicates = np.empty(size)\n",
    "\n",
    "    # Generate replicates\n",
    "    for i in range(size):\n",
    "        bs_replicates[i] = bootstrap_replicate_1d(data, func)\n",
    "\n",
    "    return bs_replicates"
   ]
  },
  {
   "cell_type": "markdown",
   "metadata": {},
   "source": [
    "## 1. Is the distribution of body temperatures normal? YES"
   ]
  },
  {
   "cell_type": "code",
   "execution_count": 198,
   "metadata": {},
   "outputs": [
    {
     "data": {
      "image/png": "[encoded data removed]",
      "text/plain": [
       "<Figure size 432x288 with 1 Axes>"
      ]
     },
     "metadata": {},
     "output_type": "display_data"
    }
   ],
   "source": [
    "# Checking for Normality\n",
    "data_sorted = df['temperature'].sort_values()\n",
    "data_mean = data_sorted.mean()\n",
    "data_std = data_sorted.std()\n",
    "# The below histogram has a bell-shape look to it.\n",
    "sns.set()\n",
    "_ = plt.hist(df['temperature'], bins=30, density=True)\n",
    "_ = plt.plot(data_sorted,norm.pdf(data_sorted,data_mean, data_std))\n",
    "plt.show()"
   ]
  },
  {
   "cell_type": "code",
   "execution_count": 199,
   "metadata": {},
   "outputs": [
    {
     "data": {
      "image/png": "[encoded data removed]",
      "text/plain": [
       "<Figure size 432x288 with 1 Axes>"
      ]
     },
     "metadata": {},
     "output_type": "display_data"
    }
   ],
   "source": [
    "# QQ plot\n",
    "# The data visually appears to follow the 45 degree line.\n",
    "qqplot(df['temperature'], line='s')\n",
    "plt.show()"
   ]
  },
  {
   "cell_type": "code",
   "execution_count": 200,
   "metadata": {},
   "outputs": [
    {
     "name": "stdout",
     "output_type": "stream",
     "text": [
      "Statistics=0.987, p=0.233\n",
      "Sample looks to be Normal (fail to reject null hypothesis)\n"
     ]
    }
   ],
   "source": [
    "# Shapiro-Wilk Test\n",
    "# normality test\n",
    "stat, p = shapiro(df['temperature'])\n",
    "print('Statistics=%.3f, p=%.3f' % (stat, p))\n",
    "alpha = .05 # if > .05 then fail to reject Null Hypothesis\n",
    "if p>alpha:\n",
    "    print('Sample looks to be Normal (fail to reject null hypothesis)')\n",
    "else:\n",
    "    print('Sample does not look to be Normal (reject null hypothesis)')"
   ]
  },
  {
   "cell_type": "code",
   "execution_count": 201,
   "metadata": {},
   "outputs": [
    {
     "name": "stdout",
     "output_type": "stream",
     "text": [
      "Statistics=2.704, p=0.259\n",
      "Sample looks to be Normal (fail to reject null hypothesis)\n"
     ]
    }
   ],
   "source": [
    "# D'Agostino K^2 Test\n",
    "# normality test\n",
    "stat, p = normaltest(df['temperature'])\n",
    "print('Statistics=%.3f, p=%.3f' % (stat, p))\n",
    "alpha = .05 # if > .05 then fail to reject Null Hypothesis\n",
    "if p>alpha:\n",
    "    print('Sample looks to be Normal (fail to reject null hypothesis)')\n",
    "else:\n",
    "    print('Sample does not look to be Normal (reject null hypothesis)')"
   ]
  },
  {
   "cell_type": "code",
   "execution_count": 202,
   "metadata": {},
   "outputs": [
    {
     "name": "stdout",
     "output_type": "stream",
     "text": [
      "Statistic: 0.520\n",
      "15.000: 0.560, data looks normal (fail to reject H0)\n",
      "10.000: 0.637, data looks normal (fail to reject H0)\n",
      "5.000: 0.765, data looks normal (fail to reject H0)\n",
      "2.500: 0.892, data looks normal (fail to reject H0)\n",
      "1.000: 1.061, data looks normal (fail to reject H0)\n"
     ]
    }
   ],
   "source": [
    "# Anderson-Darling Test\n",
    "\n",
    "# normality test\n",
    "result = anderson(df['temperature'])\n",
    "print('Statistic: %.3f' % result.statistic)\n",
    "p = 0\n",
    "for i in range(len(result.critical_values)):\n",
    "    sl, cv = result.significance_level[i], result.critical_values[i]\n",
    "    if result.statistic < result.critical_values[i]:\n",
    "        print('%.3f: %.3f, data looks normal (fail to reject H0)' % (sl, cv))\n",
    "    else:\n",
    "        print('%.3f: %.3f, data does not look normal (reject H0)' % (sl, cv))"
   ]
  },
  {
   "cell_type": "markdown",
   "metadata": {},
   "source": [
    "# 2a. Is the sample size large? YES.  > 30 samples is accepted as being sufficiently large.\n",
    "\n",
    "# 2b. Are the observations independent? YES.  The temperature of 1 person is independent of another person."
   ]
  },
  {
   "cell_type": "code",
   "execution_count": 203,
   "metadata": {},
   "outputs": [
    {
     "name": "stdout",
     "output_type": "stream",
     "text": [
      "<class 'pandas.core.frame.DataFrame'>\n",
      "RangeIndex: 130 entries, 0 to 129\n",
      "Data columns (total 3 columns):\n",
      "temperature    130 non-null float64\n",
      "gender         130 non-null object\n",
      "heart_rate     130 non-null float64\n",
      "dtypes: float64(2), object(1)\n",
      "memory usage: 3.1+ KB\n"
     ]
    }
   ],
   "source": [
    "df.info()"
   ]
  },
  {
   "cell_type": "markdown",
   "metadata": {},
   "source": [
    "# 3. Is the true population mean really 98.6 degrees F?  No, it is 98.25.\n",
    "### First, try a bootstrap hypothesis test.\n",
    "### Now, let's try frequentist statistical testing. Would you use a one-sample or two-sample test? Why? One-Sample; We are comparing a single sample mean.\n",
    "### In this situation, is it appropriate to use the  𝑡  or  𝑧  statistic? t-statistic - Z-statistic requires knowing the population std. dev.\n",
    "### Now try using the other test. How is the result be different? Why?  The result for Z* should be the same as t* since the sample size is large."
   ]
  },
  {
   "cell_type": "code",
   "execution_count": 204,
   "metadata": {},
   "outputs": [
    {
     "name": "stdout",
     "output_type": "stream",
     "text": [
      "Mean: 98.24923076923078\n"
     ]
    }
   ],
   "source": [
    "print('Mean: ' + str(np.mean(df['temperature'])))"
   ]
  },
  {
   "cell_type": "code",
   "execution_count": 205,
   "metadata": {},
   "outputs": [
    {
     "name": "stdout",
     "output_type": "stream",
     "text": [
      "p-value: 0.0\n",
      "mean: 98.24956846153847\n",
      "\n",
      "Since p = 0.0, this indicates that we should reject the null hypothesis.\n"
     ]
    },
    {
     "data": {
      "image/png": "[encoded data removed]",
      "text/plain": [
       "<Figure size 432x288 with 1 Axes>"
      ]
     },
     "metadata": {},
     "output_type": "display_data"
    }
   ],
   "source": [
    "# Bootstrap Hypothesis Test\n",
    "\n",
    "bs_replicates = np.empty(10000)\n",
    "    \n",
    "bs_replicates = draw_bs_reps(df['temperature'], np.mean, size=10000)\n",
    "\n",
    "p = np.sum(bs_replicates >= 98.6) / len(bs_replicates)\n",
    "print('p-value: ' + str(p))\n",
    "print('mean: ' + str(np.mean(bs_replicates)))\n",
    "print()\n",
    "print('Since p = 0.0, this indicates that we should reject the null hypothesis.')\n",
    "\n",
    "_ = plt.hist(bs_replicates, bins=30, density=True)\n",
    "_ = plt.xlabel('mean of temperatures')\n",
    "_ = plt.ylabel('PDF')\n",
    "plt.show()"
   ]
  },
  {
   "cell_type": "code",
   "execution_count": 206,
   "metadata": {},
   "outputs": [
    {
     "name": "stdout",
     "output_type": "stream",
     "text": [
      "t-score: -5.4548232923645195\n",
      "p-value: 2.4106320415561276e-07\n"
     ]
    }
   ],
   "source": [
    "t = stats.ttest_1samp(df['temperature'], 98.6)\n",
    "t_score = t.statistic\n",
    "t_p_value = t.pvalue\n",
    "print('t-score: ' + str(t_score))\n",
    "print('p-value: ' + str(t_p_value))"
   ]
  },
  {
   "cell_type": "markdown",
   "metadata": {},
   "source": [
    "# 4. Draw a small sample of size 10 from the data and repeat both frequentist tests.\n",
    "## Which one is the correct one to use? t-statistic; We still do not know what the true std. dev. of the population is so we can't use Z*.\n",
    "## What do you notice? What does this tell you about the difference in application of the  𝑡 and  𝑧  statistic? z* requires you to know the population std dev and t* does not.  "
   ]
  },
  {
   "cell_type": "code",
   "execution_count": 207,
   "metadata": {},
   "outputs": [
    {
     "name": "stdout",
     "output_type": "stream",
     "text": [
      "t-score: -1.659159120989889\n",
      "p-value: 0.13145703395296385\n",
      "Since p-value is > .05 then we fail to reject the Null Hypothesis.\n"
     ]
    }
   ],
   "source": [
    "sample = np.random.choice(df['temperature'], size=10)\n",
    "t2 = stats.ttest_1samp(sample, 98.6)\n",
    "t2_pvalue = t2.pvalue\n",
    "t2_t_score = t2.statistic\n",
    "print('t-score: ' + str(t2_t_score))\n",
    "print('p-value: ' + str(t2_pvalue))\n",
    "print('Since p-value is > .05 then we fail to reject the Null Hypothesis.')"
   ]
  },
  {
   "cell_type": "markdown",
   "metadata": {},
   "source": [
    "# 5. At what temperature should we consider someone's temperature to be \"abnormal\"?  Having a Margin of error below 96.86294 or higher than 99.72589 is considered abnormal.\n",
    "## As in the previous example, try calculating everything using the boostrap approach, as well as the frequentist approach.\n",
    "## Start by computing the margin of error and confidence interval. When calculating the confidence interval, keep in mind that you should use the appropriate formula for one draw, and not N draws."
   ]
  },
  {
   "cell_type": "code",
   "execution_count": 208,
   "metadata": {},
   "outputs": [
    {
     "name": "stdout",
     "output_type": "stream",
     "text": [
      "p-value: 0.0\n",
      "mean: 98.28048646153846\n",
      "95% Confidence Interval: 96.84901151905592 - 99.711961404021\n",
      "Margin of Error: +-1.431474942482538\n",
      "\n",
      "Having a Margin of error below 96.86294 or higher than 99.72589 is considered abnormal.\n"
     ]
    }
   ],
   "source": [
    "bs_replicates = np.empty(10000)\n",
    "\n",
    "bs_replicates = draw_bs_reps(np.random.choice(data_sorted, size=len(data_sorted)), np.mean, size=10000)\n",
    "\n",
    "# calculate p-value\n",
    "p = np.sum(bs_replicates >= 98.6) / len(bs_replicates)\n",
    "\n",
    "# mean of the random samples\n",
    "x_bar = np.mean(bs_replicates)\n",
    "\n",
    "# confidence intervals\n",
    "conf_ind_low, conf_ind_high = stats.norm.interval(.95, loc=x_bar, scale=np.std(data_sorted))\n",
    "\n",
    "# margin of error\n",
    "moe = conf_ind_high - x_bar\n",
    "print('p-value: ' + str(p))\n",
    "print('mean: ' + str(x_bar))\n",
    "print('95% Confidence Interval: ' + str(conf_ind_low) + ' - ' + str(conf_ind_high))\n",
    "print('Margin of Error: +-' + str(moe))\n",
    "print()\n",
    "print('Having a Margin of error below 96.86294 or higher than 99.72589 is considered abnormal.')\n"
   ]
  },
  {
   "cell_type": "markdown",
   "metadata": {},
   "source": [
    "# 6. Is there a significant difference between males and females in normal temperature?\n",
    "## What testing approach did you use and why? Two-Sample t-test; We are comparing 2 independent samples.\n",
    "## Write a story with your conclusion in the context of the original problem.\n",
    "### The two-sample t-test had results of t-statistic = -2.285 and p-value of 0.024.  The lower the p-value, the lower the chance the results were random.  Because our p-value was 0.024, we can say that it is unlikely that the average temperatures for Males and Females is the same.  Another way to put it, we reject the Null Hypothesis that stated the average temperatures between Male and Female are the same."
   ]
  },
  {
   "cell_type": "code",
   "execution_count": 209,
   "metadata": {},
   "outputs": [
    {
     "name": "stdout",
     "output_type": "stream",
     "text": [
      "Male Count: 65\n",
      "Male Mean: 98.1046153846154\n",
      "Male Std. Dev.: 0.6933598841828696\n",
      "\n",
      "Female Count: 65\n",
      "Female Mean: 98.39384615384613\n",
      "Female Std. Dev.: 0.7377464486428966\n"
     ]
    }
   ],
   "source": [
    "m = df[df['gender'] == 'M']\n",
    "m_mean = np.mean(m['temperature'])\n",
    "m_std = np.std(m['temperature'])\n",
    "\n",
    "f = df[df['gender'] == 'F']\n",
    "f_mean = np.mean(f['temperature'])\n",
    "f_std = np.std(f['temperature'])\n",
    "\n",
    "print('Male Count: ' + str(len(m)))\n",
    "print('Male Mean: ' + str(m_mean))\n",
    "print('Male Std. Dev.: ' + str(m_std))\n",
    "print()\n",
    "print('Female Count: ' + str(len(f)))\n",
    "print('Female Mean: ' + str(f_mean))\n",
    "print('Female Std. Dev.: ' + str(f_std))"
   ]
  },
  {
   "cell_type": "code",
   "execution_count": 210,
   "metadata": {},
   "outputs": [
    {
     "name": "stdout",
     "output_type": "stream",
     "text": [
      "It appears men have a lesser average temperature than females.\n",
      "Difference is: 0.289230769230727\n"
     ]
    }
   ],
   "source": [
    "print('It appears men have a lesser average temperature than females.')\n",
    "print('Difference is: ' + str(f_mean-m_mean))"
   ]
  },
  {
   "cell_type": "code",
   "execution_count": 211,
   "metadata": {},
   "outputs": [
    {
     "name": "stdout",
     "output_type": "stream",
     "text": [
      "Standard Error: 0.12557668521231213\n"
     ]
    }
   ],
   "source": [
    "# Standard Error\n",
    "se = ((m_std**2)/len(m) + (f_std**2)/len(f))**.5\n",
    "print('Standard Error: ' + str(se))"
   ]
  },
  {
   "cell_type": "code",
   "execution_count": 212,
   "metadata": {},
   "outputs": [
    {
     "data": {
      "image/png": "[encoded data removed]",
      "text/plain": [
       "<Figure size 864x360 with 1 Axes>"
      ]
     },
     "metadata": {},
     "output_type": "display_data"
    }
   ],
   "source": [
    "# Verify if both datasets are normal distributions.\n",
    "plt.figure(figsize=(12,5))\n",
    "\n",
    "m_x, m_y = ecdf(m['temperature'])\n",
    "f_x, f_y = ecdf(f['temperature'])\n",
    "\n",
    "samples = np.random.normal(m_mean, m_std, size=10000)\n",
    "m_x_theor, m_y_theor = ecdf(samples)\n",
    "\n",
    "samples = np.random.normal(f_mean, f_std, size=10000)\n",
    "f_x_theor, f_y_theor = ecdf(samples)\n",
    "\n",
    "\n",
    "sns.set()\n",
    "_ = plt.plot(m_x, m_y, marker='.', linestyle='none', color='blue')\n",
    "_ = plt.plot(f_x, f_y, marker='.', linestyle='none', color='red')\n",
    "_ = plt.plot(m_x_theor, m_y_theor)\n",
    "_ = plt.plot(f_x_theor, f_y_theor, color='red')\n",
    "_ = plt.xlabel('Temperature')\n",
    "_ = plt.ylabel('ECDF')\n",
    "_ = plt.legend(('Male', 'Female'), loc=2)\n",
    "plt.margins = .02\n",
    "plt.show()\n",
    "\n"
   ]
  },
  {
   "cell_type": "code",
   "execution_count": 213,
   "metadata": {},
   "outputs": [
    {
     "name": "stdout",
     "output_type": "stream",
     "text": [
      "The two-sample t-test had results of t-statistic = -2.2854345381656103\n",
      "and p-value of 0.02393188312239561\n",
      "The lower the p-value, the lower the chance the results were random.\n",
      "Because our p-value was 0.02393188312239561, we can say that it is unlikely that the average temperatures for Males and Females is the same.\n",
      "Another way to put it, we reject the Null Hypothesis that stated the average temperatures between Male and Female are the same.\n"
     ]
    }
   ],
   "source": [
    "# Two-Sample t-test\n",
    "two_samp = stats.ttest_ind(m['temperature'], f['temperature'])\n",
    "print('The two-sample t-test had results of t-statistic = ' + str(two_samp.statistic))\n",
    "print('and p-value of ' + str(two_samp.pvalue))\n",
    "print('The lower the p-value, the lower the chance the results were random.')\n",
    "print('Because our p-value was ' + str(two_samp.pvalue) + ', we can say that it is unlikely that the average temperatures for Males and Females is the same.')\n",
    "print('Another way to put it, we reject the Null Hypothesis that stated the average temperatures between Male and Female are the same.')"
   ]
  },
  {
   "cell_type": "code",
   "execution_count": null,
   "metadata": {},
   "outputs": [],
   "source": []
  }
 ],
 "metadata": {
  "kernelspec": {
   "display_name": "Python 3",
   "language": "python",
   "name": "python3"
  },
  "language_info": {
   "codemirror_mode": {
    "name": "ipython",
    "version": 3
   },
   "file_extension": ".py",
   "mimetype": "text/x-python",
   "name": "python",
   "nbconvert_exporter": "python",
   "pygments_lexer": "ipython3",
   "version": "3.7.1"
  }
 },
 "nbformat": 4,
 "nbformat_minor": 1
}
