{
 "cells": [
  {
   "cell_type": "markdown",
   "metadata": {},
   "source": [
    "# Examining Racial Discrimination in the US Job Market\n",
    "\n",
    "### Background\n",
    "Racial discrimination continues to be pervasive in cultures throughout the world. Researchers examined the level of racial discrimination in the United States labor market by randomly assigning identical résumés to black-sounding or white-sounding names and observing the impact on requests for interviews from employers.\n",
    "\n",
    "### Data\n",
    "In the dataset provided, each row represents a resume. The 'race' column has two values, 'b' and 'w', indicating black-sounding and white-sounding. The column 'call' has two values, 1 and 0, indicating whether the resume received a call from employers or not.\n",
    "\n",
    "Note that the 'b' and 'w' values in race are assigned randomly to the resumes when presented to the employer."
   ]
  },
  {
   "cell_type": "markdown",
   "metadata": {},
   "source": [
    "### Exercises\n",
    "You will perform a statistical analysis to establish whether race has a significant impact on the rate of callbacks for resumes.\n",
    "\n",
    "Answer the following questions **in this notebook below and submit to your Github account**. \n",
    "\n",
    "   1. What test is appropriate for this problem? Does CLT apply?\n",
    "   2. What are the null and alternate hypotheses?\n",
    "   3. Compute margin of error, confidence interval, and p-value. Try using both the bootstrapping and the frequentist statistical approaches.\n",
    "   4. Write a story describing the statistical significance in the context or the original problem.\n",
    "   5. Does your analysis mean that race/name is the most important factor in callback success? Why or why not? If not, how would you amend your analysis?\n",
    "\n",
    "You can include written notes in notebook cells using Markdown: \n",
    "   - In the control panel at the top, choose Cell > Cell Type > Markdown\n",
    "   - Markdown syntax: http://nestacms.com/docs/creating-content/markdown-cheat-sheet\n",
    "\n",
    "#### Resources\n",
    "+ Experiment information and data source: http://www.povertyactionlab.org/evaluation/discrimination-job-market-united-states\n",
    "+ Scipy statistical methods: http://docs.scipy.org/doc/scipy/reference/stats.html \n",
    "+ Markdown syntax: http://nestacms.com/docs/creating-content/markdown-cheat-sheet\n",
    "+ Formulas for the Bernoulli distribution: https://en.wikipedia.org/wiki/Bernoulli_distribution"
   ]
  },
  {
   "cell_type": "code",
   "execution_count": 231,
   "metadata": {},
   "outputs": [],
   "source": [
    "import pandas as pd\n",
    "import numpy as np\n",
    "from scipy import stats\n",
    "import matplotlib.pyplot as plt\n",
    "import seaborn as sns; sns.set(color_codes=True)"
   ]
  },
  {
   "cell_type": "code",
   "execution_count": 232,
   "metadata": {},
   "outputs": [],
   "source": [
    "data = pd.io.stata.read_stata('data/us_job_market_discrimination.dta')"
   ]
  },
  {
   "cell_type": "code",
   "execution_count": 233,
   "metadata": {},
   "outputs": [
    {
     "data": {
      "text/plain": [
       "157.0"
      ]
     },
     "execution_count": 233,
     "metadata": {},
     "output_type": "execute_result"
    }
   ],
   "source": [
    "# number of callbacks for black-sounding names\n",
    "sum(data[data.race=='b'].call)"
   ]
  },
  {
   "cell_type": "code",
   "execution_count": 234,
   "metadata": {
    "scrolled": true
   },
   "outputs": [
    {
     "data": {
      "text/html": [
       "<div>\n",
       "<style scoped>\n",
       "    .dataframe tbody tr th:only-of-type {\n",
       "        vertical-align: middle;\n",
       "    }\n",
       "\n",
       "    .dataframe tbody tr th {\n",
       "        vertical-align: top;\n",
       "    }\n",
       "\n",
       "    .dataframe thead th {\n",
       "        text-align: right;\n",
       "    }\n",
       "</style>\n",
       "<table border=\"1\" class=\"dataframe\">\n",
       "  <thead>\n",
       "    <tr style=\"text-align: right;\">\n",
       "      <th></th>\n",
       "      <th>id</th>\n",
       "      <th>ad</th>\n",
       "      <th>education</th>\n",
       "      <th>ofjobs</th>\n",
       "      <th>yearsexp</th>\n",
       "      <th>honors</th>\n",
       "      <th>volunteer</th>\n",
       "      <th>military</th>\n",
       "      <th>empholes</th>\n",
       "      <th>occupspecific</th>\n",
       "      <th>...</th>\n",
       "      <th>compreq</th>\n",
       "      <th>orgreq</th>\n",
       "      <th>manuf</th>\n",
       "      <th>transcom</th>\n",
       "      <th>bankreal</th>\n",
       "      <th>trade</th>\n",
       "      <th>busservice</th>\n",
       "      <th>othservice</th>\n",
       "      <th>missind</th>\n",
       "      <th>ownership</th>\n",
       "    </tr>\n",
       "  </thead>\n",
       "  <tbody>\n",
       "    <tr>\n",
       "      <th>0</th>\n",
       "      <td>b</td>\n",
       "      <td>1</td>\n",
       "      <td>4</td>\n",
       "      <td>2</td>\n",
       "      <td>6</td>\n",
       "      <td>0</td>\n",
       "      <td>0</td>\n",
       "      <td>0</td>\n",
       "      <td>1</td>\n",
       "      <td>17</td>\n",
       "      <td>...</td>\n",
       "      <td>1.0</td>\n",
       "      <td>0.0</td>\n",
       "      <td>1.0</td>\n",
       "      <td>0.0</td>\n",
       "      <td>0.0</td>\n",
       "      <td>0.0</td>\n",
       "      <td>0.0</td>\n",
       "      <td>0.0</td>\n",
       "      <td>0.0</td>\n",
       "      <td></td>\n",
       "    </tr>\n",
       "    <tr>\n",
       "      <th>1</th>\n",
       "      <td>b</td>\n",
       "      <td>1</td>\n",
       "      <td>3</td>\n",
       "      <td>3</td>\n",
       "      <td>6</td>\n",
       "      <td>0</td>\n",
       "      <td>1</td>\n",
       "      <td>1</td>\n",
       "      <td>0</td>\n",
       "      <td>316</td>\n",
       "      <td>...</td>\n",
       "      <td>1.0</td>\n",
       "      <td>0.0</td>\n",
       "      <td>1.0</td>\n",
       "      <td>0.0</td>\n",
       "      <td>0.0</td>\n",
       "      <td>0.0</td>\n",
       "      <td>0.0</td>\n",
       "      <td>0.0</td>\n",
       "      <td>0.0</td>\n",
       "      <td></td>\n",
       "    </tr>\n",
       "    <tr>\n",
       "      <th>2</th>\n",
       "      <td>b</td>\n",
       "      <td>1</td>\n",
       "      <td>4</td>\n",
       "      <td>1</td>\n",
       "      <td>6</td>\n",
       "      <td>0</td>\n",
       "      <td>0</td>\n",
       "      <td>0</td>\n",
       "      <td>0</td>\n",
       "      <td>19</td>\n",
       "      <td>...</td>\n",
       "      <td>1.0</td>\n",
       "      <td>0.0</td>\n",
       "      <td>1.0</td>\n",
       "      <td>0.0</td>\n",
       "      <td>0.0</td>\n",
       "      <td>0.0</td>\n",
       "      <td>0.0</td>\n",
       "      <td>0.0</td>\n",
       "      <td>0.0</td>\n",
       "      <td></td>\n",
       "    </tr>\n",
       "    <tr>\n",
       "      <th>3</th>\n",
       "      <td>b</td>\n",
       "      <td>1</td>\n",
       "      <td>3</td>\n",
       "      <td>4</td>\n",
       "      <td>6</td>\n",
       "      <td>0</td>\n",
       "      <td>1</td>\n",
       "      <td>0</td>\n",
       "      <td>1</td>\n",
       "      <td>313</td>\n",
       "      <td>...</td>\n",
       "      <td>1.0</td>\n",
       "      <td>0.0</td>\n",
       "      <td>1.0</td>\n",
       "      <td>0.0</td>\n",
       "      <td>0.0</td>\n",
       "      <td>0.0</td>\n",
       "      <td>0.0</td>\n",
       "      <td>0.0</td>\n",
       "      <td>0.0</td>\n",
       "      <td></td>\n",
       "    </tr>\n",
       "    <tr>\n",
       "      <th>4</th>\n",
       "      <td>b</td>\n",
       "      <td>1</td>\n",
       "      <td>3</td>\n",
       "      <td>3</td>\n",
       "      <td>22</td>\n",
       "      <td>0</td>\n",
       "      <td>0</td>\n",
       "      <td>0</td>\n",
       "      <td>0</td>\n",
       "      <td>313</td>\n",
       "      <td>...</td>\n",
       "      <td>1.0</td>\n",
       "      <td>1.0</td>\n",
       "      <td>0.0</td>\n",
       "      <td>0.0</td>\n",
       "      <td>0.0</td>\n",
       "      <td>0.0</td>\n",
       "      <td>0.0</td>\n",
       "      <td>1.0</td>\n",
       "      <td>0.0</td>\n",
       "      <td>Nonprofit</td>\n",
       "    </tr>\n",
       "  </tbody>\n",
       "</table>\n",
       "<p>5 rows × 65 columns</p>\n",
       "</div>"
      ],
      "text/plain": [
       "  id ad  education  ofjobs  yearsexp  honors  volunteer  military  empholes  \\\n",
       "0  b  1          4       2         6       0          0         0         1   \n",
       "1  b  1          3       3         6       0          1         1         0   \n",
       "2  b  1          4       1         6       0          0         0         0   \n",
       "3  b  1          3       4         6       0          1         0         1   \n",
       "4  b  1          3       3        22       0          0         0         0   \n",
       "\n",
       "   occupspecific    ...      compreq  orgreq  manuf  transcom  bankreal trade  \\\n",
       "0             17    ...          1.0     0.0    1.0       0.0       0.0   0.0   \n",
       "1            316    ...          1.0     0.0    1.0       0.0       0.0   0.0   \n",
       "2             19    ...          1.0     0.0    1.0       0.0       0.0   0.0   \n",
       "3            313    ...          1.0     0.0    1.0       0.0       0.0   0.0   \n",
       "4            313    ...          1.0     1.0    0.0       0.0       0.0   0.0   \n",
       "\n",
       "  busservice othservice  missind  ownership  \n",
       "0        0.0        0.0      0.0             \n",
       "1        0.0        0.0      0.0             \n",
       "2        0.0        0.0      0.0             \n",
       "3        0.0        0.0      0.0             \n",
       "4        0.0        1.0      0.0  Nonprofit  \n",
       "\n",
       "[5 rows x 65 columns]"
      ]
     },
     "execution_count": 234,
     "metadata": {},
     "output_type": "execute_result"
    }
   ],
   "source": [
    "data.head()"
   ]
  },
  {
   "cell_type": "markdown",
   "metadata": {},
   "source": [
    "## Functions"
   ]
  },
  {
   "cell_type": "code",
   "execution_count": 235,
   "metadata": {},
   "outputs": [],
   "source": [
    "# Bootstrap Replicates\t\n",
    "def bootstrap_replicate_1d(data, func, other_size=len(data)):\n",
    "    return func(np.random.choice(data, size=other_size))\n"
   ]
  },
  {
   "cell_type": "code",
   "execution_count": 236,
   "metadata": {},
   "outputs": [
    {
     "name": "stdout",
     "output_type": "stream",
     "text": [
      "Analyze Data:\n",
      "\n",
      "    Total count: 4870\n",
      "    White count: 2435\n",
      "    Black count: 2435\n",
      "\n",
      "    Total calls: 392.0\n",
      "    White calls received: 235.0\n",
      "    Black calls received: 157.0\n",
      "\n",
      "    Total probability: 0.08049281314168377\n",
      "    White probability: 0.09650924024640657\n",
      "    Black probability: 0.06447638603696099\n",
      "\n",
      "\n",
      "Observations:\n",
      "\n",
      "    Random?\n",
      "        The race field was updated at random.\n",
      "\n",
      "    Each observation is independent of the others?\n",
      "        Each record represents a different resume so the results are independent.\n",
      "\n",
      "    Count of observations is > 30?\n",
      "        Count: 4870\n",
      "\n",
      "    Sample sizes equal?\n",
      "        White-sounding vs. Black-sounding counts are equal.\n",
      "            w: 2435\n",
      "            b: 2435\n",
      "\n"
     ]
    }
   ],
   "source": [
    "#Calcs\n",
    "print('Analyze Data:')\n",
    "print()\n",
    "\n",
    "white = data[data['race'] == 'w']\n",
    "black = data[data['race'] == 'b']\n",
    "\n",
    "total_count =len(data)\n",
    "w_count = len(white)\n",
    "b_count = len(black)\n",
    "print('    Total count: ' + str(total_count))\n",
    "print('    White count: ' + str(w_count))\n",
    "print('    Black count: ' + str(b_count))\n",
    "print()\n",
    "\n",
    "total_calls = np.sum(data['call'])\n",
    "w_calls = np.sum(white['call'])\n",
    "b_calls = np.sum(black['call'])\n",
    "print('    Total calls: ' + str(total_calls))\n",
    "print('    White calls received: ' + str(w_calls))\n",
    "print('    Black calls received: ' + str(b_calls))\n",
    "print()\n",
    "\n",
    "# Array to be used for Bootstrapping.\n",
    "calls_true_false_array = np.array( [True] * int(total_calls) + [False] * int(total_count - total_calls))\n",
    "\n",
    "\n",
    "total_prob = total_calls / total_count\n",
    "w_prob = w_calls_rcvd / w_count\n",
    "b_prob = b_calls_rcvd / b_count\n",
    "print('    Total probability: ' + str(total_prob))\n",
    "print('    White probability: ' + str(w_prob))\n",
    "print('    Black probability: ' + str(b_prob))\n",
    "print()\n",
    "print()\n",
    "\n",
    "print('Observations:')\n",
    "print()\n",
    "print('    Random?')\n",
    "print('        The race field was updated at random.')\n",
    "print()\n",
    "\n",
    "print('    Each observation is independent of the others?')\n",
    "print('        Each record represents a different resume so the results are independent.')\n",
    "print()\n",
    "\n",
    "print('    Count of observations is > 30?')\n",
    "print('        Count: ' + str(total_count))\n",
    "print()\n",
    "\n",
    "print('    Sample sizes equal?')\n",
    "print('        White-sounding vs. Black-sounding counts are equal.')\n",
    "print('            w: ' + str(w_count))\n",
    "print('            b: ' + str(b_count))\n",
    "print()\n",
    "\n",
    "\n"
   ]
  },
  {
   "cell_type": "markdown",
   "metadata": {
    "collapsed": true
   },
   "source": [
    "<div class=\"span5 alert alert-success\">\n",
    "<p>Your answers to Q1 and Q2 here</p>\n",
    "    <p>Q1: What test is appropriate for this problem? Does CLT apply?</p>\n",
    "    <p>Z-Test for proportions.</p>\n",
    "    <p>Does the CLT apply?  Yes.  </p>\n",
    "    <p>Q2: What are the null and alternate hypotheses?</p>\n",
    "    <p>Null Hypothesis: Race (black-sounding names vs. white-sounding names) does not have an impact on whether an applicant receives a call from employers.</p>\n",
    "    <p>Alternative Hypothesis: Race does have an impact on whether an applicant receives a call from employers.</p>\n",
    "</div>"
   ]
  },
  {
   "cell_type": "code",
   "execution_count": 237,
   "metadata": {},
   "outputs": [],
   "source": [
    "w = data[data.race=='w']\n",
    "b = data[data.race=='b']"
   ]
  },
  {
   "cell_type": "markdown",
   "metadata": {},
   "source": [
    "## Q3\n",
    "### Bootstrap Result: The Null Hypothesis should be rejected.  The p-value was below .05."
   ]
  },
  {
   "cell_type": "code",
   "execution_count": 238,
   "metadata": {},
   "outputs": [
    {
     "name": "stdout",
     "output_type": "stream",
     "text": [
      "Actual Observed Difference: 0.032032854209445585\n",
      "Margin of Error: 0.015400410677618069\n",
      "95% Confidence Interval: [-0.01519507  0.01560575]\n",
      "P-value: 0.0\n",
      "\n"
     ]
    },
    {
     "data": {
      "image/png": "[encoded data removed]",
      "text/plain": [
       "<Figure size 432x288 with 1 Axes>"
      ]
     },
     "metadata": {},
     "output_type": "display_data"
    }
   ],
   "source": [
    "# Your solution to Q3 here\n",
    "\n",
    "# Bootstrap Hypothesis Test\n",
    "bs_rep_diff_prob = np.empty(10000)\n",
    "\n",
    "# Go through 10000 samples\n",
    "for i in range(10000):\n",
    "    w_bs_replicates = bootstrap_replicate_1d(data['call'], np.sum, int(w_count))\n",
    "    b_bs_replicates = bootstrap_replicate_1d(data['call'], np.sum, int(b_count))\n",
    "\n",
    "    # Calculate the difference for white vs. black in our replications\n",
    "    bs_rep_diff_prob[i] = (w_bs_replicates - b_bs_replicates) / b_count\n",
    "\n",
    "    \n",
    "p_value_diff = np.sum(bs_rep_diff_prob >= (w_prob - b_prob)) / len(bs_rep_diff_prob)\n",
    "conf_int_diff = np.percentile(bs_rep_diff_prob, [2.5, 97.5])\n",
    "moe = (conf_int_diff[1] - conf_int_diff[0]) / 2\n",
    "print('Actual Observed Difference: ' + str(w_prob - b_prob))\n",
    "\n",
    "print('Margin of Error: ' + str(moe))\n",
    "print('95% Confidence Interval: ' + str(conf_int_diff))\n",
    "print('P-value: ' + str(p_value_diff))\n",
    "print()\n",
    "\n",
    "\n",
    "_ = plt.hist(bs_rep_diff_prob, bins=30, density=True)\n",
    "_ = plt.xlabel('Difference (%)')\n",
    "_ = plt.ylabel('Frequency')\n",
    "plt.show()\n",
    "\n"
   ]
  },
  {
   "cell_type": "markdown",
   "metadata": {},
   "source": [
    "## Q3\n",
    "### Frequentist Result: The Null Hypothesis should be rejected.  The p-value was below .05."
   ]
  },
  {
   "cell_type": "code",
   "execution_count": 239,
   "metadata": {},
   "outputs": [
    {
     "name": "stdout",
     "output_type": "stream",
     "text": [
      "Actual Observed Difference: 0.032032854209445585\n",
      "Margin of Error: +-0.015255406349886438\n",
      "Confidence Interval: 0.016777447859559147 to 0.047288260559332024\n",
      "Standard Error: 0.007796894036170457\n",
      "z: 4.108412152434346\n",
      "P-value: 3.983886837577444e-05\n"
     ]
    }
   ],
   "source": [
    "\n",
    "z_crit = 1.96 # Critical value with 95% confidence interval.\n",
    "w_p_hat = (w_prob * (1 - w_prob)) / w_count\n",
    "b_p_hat = (b_prob * (1 - b_prob)) / b_count\n",
    "\n",
    "# ci lower/upper = [diff probabilities] +- ([z critical value] * sqrt((prob1 * (1-prob1)) / count1) + (prob2 * (1-prob2)) / count2)\n",
    "# To simplify: phat1 = (prob1 * (1-prob1)) / count1\n",
    "#              phat2 = (prob2 * (1-prob2)) / count2\n",
    "#              ci lower/upper = [diff probabilities] +- ([z critical value] * sqrt(phat1 + phat2)\n",
    "\n",
    "w_p_hat = (w_prob * (1 - w_prob)) / w_count\n",
    "b_p_hat = (b_prob * (1 - b_prob)) / b_count\n",
    "\n",
    "conf_int_upper = (w_prob - b_prob) + (z_crit * (np.sqrt(w_p_hat + b_p_hat)))\n",
    "conf_int_lower = (w_prob - b_prob) - (z_crit * (np.sqrt(w_p_hat + b_p_hat)))\n",
    "\n",
    "# Margin of Error = (upper - lower) / 2\n",
    "moe = (conf_int_upper - conf_int_lower) / 2\n",
    "\n",
    "print('Actual Observed Difference: ' + str(w_prob - b_prob))\n",
    "\n",
    "print('Margin of Error: +-' + str(moe))\n",
    "print('Confidence Interval: ' + str(conf_int_lower) + ' to ' + str(conf_int_upper))\n",
    "\n",
    "# Standard Error = sqrt ( (p1 * (1-p1)) / n1 + (p2 * (1-p2))/n2))\n",
    "se = np.sqrt((total_prob * (1-total_prob)) * (1/w_count + 1/b_count))\n",
    "print('Standard Error: ' + str(se))\n",
    "z_stat = (w_prob - b_prob) / se\n",
    "print('z: ' + str(z_stat))\n",
    "\n",
    "p_value = 2 * (1 - stats.norm.cdf(z_stat)) # 2-sided\n",
    "print('P-value: ' + str(p_value))\n",
    "\n",
    "\n",
    "\n",
    "\n"
   ]
  },
  {
   "cell_type": "markdown",
   "metadata": {},
   "source": [
    "<div class=\"span5 alert alert-success\">\n",
    "<p> Your answers to Q4 and Q5 here </p>\n",
    "<p> Q4: Based on the results above, we can say that white sounding names receive a significantly higher number of calls compared to black sounding names.  The probability of a white sounding name getting a call is around 9.65 % whereas the probability of a black sounding name getting a call is around 6.45 %. </p>\n",
    "<p> Q5: Although race seems to be a big factor in if an applicant gets a call, we cannot say that race is the \"most important factor\".  We would need to do more analysis on the other variables to determine if race is the \"most important factor\".\n",
    "To amend the analysis, we could analyze the other variables in the same detail that we did on race. </p>    \n",
    "</div>"
   ]
  }
 ],
 "metadata": {
  "kernelspec": {
   "display_name": "Python 3",
   "language": "python",
   "name": "python3"
  },
  "language_info": {
   "codemirror_mode": {
    "name": "ipython",
    "version": 3
   },
   "file_extension": ".py",
   "mimetype": "text/x-python",
   "name": "python",
   "nbconvert_exporter": "python",
   "pygments_lexer": "ipython3",
   "version": "3.7.1"
  }
 },
 "nbformat": 4,
 "nbformat_minor": 1
}
